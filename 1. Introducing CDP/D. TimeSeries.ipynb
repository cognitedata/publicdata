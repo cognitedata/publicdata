{
 "cells": [
  {
   "cell_type": "code",
   "execution_count": null,
   "metadata": {},
   "outputs": [],
   "source": [
    "%pylab notebook\n",
    "\n",
    "import pandas as pd\n",
    "import numpy as np\n",
    "import datetime\n",
    "import os\n",
    "\n",
    "import ipywidgets as widgets\n",
    "\n",
    "from cognite.client import CogniteClient   "
   ]
  },
  {
   "cell_type": "code",
   "execution_count": null,
   "metadata": {},
   "outputs": [],
   "source": [
    "client = CogniteClient(api_key=os.environ[\"OID_API_KEY\"]) "
   ]
  },
  {
   "cell_type": "markdown",
   "metadata": {},
   "source": [
    "### Get all timeseries relevant for the compressor"
   ]
  },
  {
   "cell_type": "code",
   "execution_count": null,
   "metadata": {
    "scrolled": true
   },
   "outputs": [],
   "source": [
    "# If we know the tag\n",
    "compressor_tag = '23-KA-9101'\n",
    "client.assets.get_assets(name=compressor_tag).to_pandas()"
   ]
  },
  {
   "cell_type": "code",
   "execution_count": null,
   "metadata": {},
   "outputs": [],
   "source": [
    "time_series = client.time_series.get_time_series(asset_id=3047932288982463).to_pandas()\n",
    "time_series"
   ]
  },
  {
   "cell_type": "code",
   "execution_count": null,
   "metadata": {},
   "outputs": [],
   "source": [
    "# Let us check how much data we have\n",
    "start = 0\n",
    "end = 'now'\n",
    "granularity = '1d'\n",
    "aggregates = ['avg']\n",
    "data = client.datapoints.get_datapoints_frame(time_series = list(time_series.name.values), start=start, end=end, aggregates=aggregates, granularity=granularity)"
   ]
  },
  {
   "cell_type": "code",
   "execution_count": null,
   "metadata": {
    "scrolled": false
   },
   "outputs": [],
   "source": [
    "df = data.copy()\n",
    "df.timestamp = pd.to_datetime(df.timestamp, unit='ms')\n",
    "df"
   ]
  },
  {
   "cell_type": "code",
   "execution_count": null,
   "metadata": {},
   "outputs": [],
   "source": [
    "data.describe()"
   ]
  },
  {
   "cell_type": "code",
   "execution_count": null,
   "metadata": {
    "scrolled": false
   },
   "outputs": [],
   "source": [
    "df_nan = 0.5*(~df.isnull().astype(int)+1)\n",
    "\n",
    "plt.figure(figsize=(10,5))\n",
    "A= plt.pcolor(df_nan.drop(['timestamp'], axis=1).values.transpose())\n",
    "yloc = np.arange(0.5, len(df_nan.columns)-1+0.5)\n",
    "ytick = [w[0] for w in list(df_nan.drop(['timestamp'],axis=1).columns.str.split(':'))]\n",
    "A =plt.yticks(yloc, ytick, fontsize='xx-small')\n",
    "xtick = [str(w).split('-')[0] for w in df.timestamp[df.index%365==0].values] \n",
    "xloc = np.arange(0, len(df), 365)\n",
    "A = plt.xticks(xloc, xtick)"
   ]
  },
  {
   "cell_type": "code",
   "execution_count": null,
   "metadata": {},
   "outputs": [],
   "source": [
    "fig, ax = plt.subplots(figsize=(10,5))\n",
    "T = pd.to_datetime(data.timestamp, unit='ms')\n",
    "ax.plot(T, data['VAL_23-KA-9101_ASP:VALUE|average'], label='Power kW')\n",
    "ax2 = ax.twinx()\n",
    "ax2.plot(T, data['VAL_23-KA-9101_APR:VALUE|average'], color='red', label='p/p')\n",
    "ax.legend()\n",
    "ax2.legend()"
   ]
  },
  {
   "cell_type": "code",
   "execution_count": null,
   "metadata": {},
   "outputs": [],
   "source": [
    "#Something seems to have happend between 2nd and 30th of June 2016\n",
    "min_start_time = int(datetime.datetime(2016, 6, 1).timestamp()*1000)\n",
    "max_end_time   = int(datetime.datetime(2016, 8, 15).timestamp()*1000)\n",
    "events = client.events.search_for_events( min_start_time=min_start_time, max_end_time=max_end_time).to_pandas()\n",
    "compressor_events = events[[3047932288982463 in aid for aid in events.assetIds]]\n",
    "compressor_events"
   ]
  },
  {
   "cell_type": "code",
   "execution_count": null,
   "metadata": {},
   "outputs": [],
   "source": [
    "DE = compressor_events[['WORKORDER_NUMBER', 'WORKORDER_SHUTDOWNDESC']].copy()\n",
    "DE['startTime'] = pd.to_datetime(compressor_events.startTime, unit='ms')\n",
    "DE['endTime'] = pd.to_datetime(compressor_events.endTime, unit='ms')\n",
    "DE.sort_values(by='startTime', inplace=True)\n",
    "DE"
   ]
  },
  {
   "cell_type": "code",
   "execution_count": null,
   "metadata": {},
   "outputs": [],
   "source": [
    "scond = ['shutdown' in str(w) for w in DE['WORKORDER_SHUTDOWNDESC']]\n",
    "shutdown = DE[scond].reset_index(drop=True)\n",
    "shutdown"
   ]
  },
  {
   "cell_type": "code",
   "execution_count": null,
   "metadata": {},
   "outputs": [],
   "source": [
    "plt.plot(shutdown['startTime'], np.ones(len(shutdown)), 'D', color='purple')"
   ]
  },
  {
   "cell_type": "code",
   "execution_count": null,
   "metadata": {},
   "outputs": [],
   "source": [
    "# Let us refine the search\n",
    "start = datetime.datetime(2016, 5, 20)\n",
    "end   = datetime.datetime(2016, 8, 1)\n",
    "granularity = '1m'\n",
    "aggregates = ['avg']\n",
    "data = client.datapoints.get_datapoints_frame(time_series=['VAL_23-KA-9101_ASP:VALUE', 'VAL_23-KA-9101_APR:VALUE'], \n",
    "                            start = start, \n",
    "                            end = end, \n",
    "                            granularity = granularity, \n",
    "                            aggregates = aggregates)\n"
   ]
  },
  {
   "cell_type": "code",
   "execution_count": null,
   "metadata": {},
   "outputs": [],
   "source": [
    "fig, ax = plt.subplots(figsize=(10,5))\n",
    "T = pd.to_datetime(data.timestamp, unit='ms')\n",
    "ax.plot(T, data['VAL_23-KA-9101_ASP:VALUE|average'], label='Power kW')\n",
    "ax2 = ax.twinx()\n",
    "ax2.plot(T, data['VAL_23-KA-9101_APR:VALUE|average'], color='red', label='p/p')\n",
    "ax.legend()\n",
    "ax2.legend()"
   ]
  },
  {
   "cell_type": "code",
   "execution_count": null,
   "metadata": {},
   "outputs": [],
   "source": [
    "plt.plot(shutdown['startTime'], np.ones(len(shutdown)), 'D', color='purple')"
   ]
  },
  {
   "cell_type": "code",
   "execution_count": null,
   "metadata": {},
   "outputs": [],
   "source": [
    "# What is up with the oscilations\n",
    "# Let us refine the search\n",
    "start = datetime.datetime(2016, 5, 20)\n",
    "end   = datetime.datetime(2016, 5, 21)\n",
    "granularity = '1s'\n",
    "aggregates = ['avg']\n",
    "data = client.datapoints.get_datapoints_frame(time_series=['VAL_23-KA-9101_ASP:VALUE', 'VAL_23-KA-9101_APR:VALUE'], \n",
    "                            start = start, \n",
    "                            end = end, \n",
    "                            granularity = granularity, \n",
    "                            aggregates = aggregates)"
   ]
  },
  {
   "cell_type": "code",
   "execution_count": null,
   "metadata": {},
   "outputs": [],
   "source": [
    "fig, ax = plt.subplots(figsize=(10,5))\n",
    "T = pd.to_datetime(data.timestamp, unit='ms')\n",
    "ax.plot(T, data['VAL_23-KA-9101_ASP:VALUE|average'], label='Power kW')\n",
    "ax2 = ax.twinx()\n",
    "ax2.plot(T, data['VAL_23-KA-9101_APR:VALUE|average'], color='red', label='p/p')\n",
    "ax.legend()\n",
    "ax2.legend()"
   ]
  },
  {
   "cell_type": "code",
   "execution_count": null,
   "metadata": {},
   "outputs": [],
   "source": [
    "# What is up with the oscilations\n",
    "# Let us refine the search\n",
    "start = 0\n",
    "end   = 'now'\n",
    "granularity = '1d'\n",
    "aggregates = ['avg','tv']\n",
    "data = client.datapoints.get_datapoints_frame(time_series=['VAL_23-KA-9101_ASP:VALUE', 'VAL_23-KA-9101_APR:VALUE'], \n",
    "                            start = start, \n",
    "                            end = end, \n",
    "                            granularity = granularity, \n",
    "                            aggregates = aggregates)"
   ]
  },
  {
   "cell_type": "code",
   "execution_count": null,
   "metadata": {},
   "outputs": [],
   "source": [
    "fig, ax = plt.subplots(figsize=(10,5))\n",
    "T = pd.to_datetime(data.timestamp, unit='ms')\n",
    "ax.plot(T, data['VAL_23-KA-9101_APR:VALUE|totalvariation'], label='Power kW')\n",
    "ax2 = ax.twinx()\n",
    "ax2.plot(T, data['VAL_23-KA-9101_APR:VALUE|average'], color='red', label='p/p')\n",
    "ax.legend()\n",
    "ax2.legend()"
   ]
  },
  {
   "cell_type": "code",
   "execution_count": null,
   "metadata": {},
   "outputs": [],
   "source": []
  }
 ],
 "metadata": {
  "kernelspec": {
   "display_name": "Python 3",
   "language": "python",
   "name": "python3"
  },
  "language_info": {
   "codemirror_mode": {
    "name": "ipython",
    "version": 3
   },
   "file_extension": ".py",
   "mimetype": "text/x-python",
   "name": "python",
   "nbconvert_exporter": "python",
   "pygments_lexer": "ipython3",
   "version": "3.6.7"
  }
 },
 "nbformat": 4,
 "nbformat_minor": 2
}
