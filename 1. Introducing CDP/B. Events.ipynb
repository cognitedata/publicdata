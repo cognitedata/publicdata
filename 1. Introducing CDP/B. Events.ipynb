{
 "cells": [
  {
   "cell_type": "code",
   "execution_count": null,
   "metadata": {},
   "outputs": [],
   "source": [
    "import datetime\n",
    "import os\n",
    "\n",
    "from cognite.client import CogniteClient   "
   ]
  },
  {
   "cell_type": "code",
   "execution_count": null,
   "metadata": {},
   "outputs": [],
   "source": [
    "client = CogniteClient(api_key=os.environ[\"COGNITE_API_KEY\"]) "
   ]
  },
  {
   "cell_type": "markdown",
   "metadata": {},
   "source": [
    "### Get all events linked to compressor"
   ]
  },
  {
   "cell_type": "code",
   "execution_count": null,
   "metadata": {
    "scrolled": true
   },
   "outputs": [],
   "source": [
    "# If we know the tag\n",
    "compressor_tag = '23-KA-9101'\n",
    "client.assets.get_assets(name=compressor_tag).to_pandas()"
   ]
  },
  {
   "cell_type": "code",
   "execution_count": null,
   "metadata": {},
   "outputs": [],
   "source": [
    "client.events.get_events(asset_id=6385539914126645).to_pandas()"
   ]
  },
  {
   "cell_type": "code",
   "execution_count": null,
   "metadata": {},
   "outputs": [],
   "source": [
    "# Search for events\n",
    "min_start_time = int(datetime.datetime(2019, 1, 1).timestamp()*1000)\n",
    "Events_this_year = client.events.search_for_events(min_start_time=min_start_time, type=\"Workorder\").to_pandas()\n",
    "Events_this_year"
   ]
  },
  {
   "cell_type": "code",
   "execution_count": null,
   "metadata": {},
   "outputs": [],
   "source": [
    "Events_this_year.iloc[2]"
   ]
  },
  {
   "cell_type": "code",
   "execution_count": null,
   "metadata": {},
   "outputs": [],
   "source": [
    "Events_this_year.WORKORDER_CONDITIONBEFORECODE.value_counts()"
   ]
  },
  {
   "cell_type": "code",
   "execution_count": null,
   "metadata": {},
   "outputs": [],
   "source": [
    "# Let us search for all DEAD events\n",
    "Dead_events = client.events.search_for_events(metadata={'WORKORDER_CONDITIONBEFORECODE':'DEAD'}).to_pandas()\n",
    "\n",
    "# Selecting and renaming columns, sorting rows\n",
    "DE_short = Dead_events[['WORKORDER_NUMBER','WORKORDER_COMPLETIONDATE', 'WORKORDER_DESC', 'assetIds']].copy()\n",
    "DE_short = DE_short.sort_values(by='WORKORDER_COMPLETIONDATE')\n",
    "DE_short = DE_short.rename(columns={'WORKORDER_COMPLETIONDATE':'date', \n",
    "                                    'WORKORDER_NUMBER':'number',\n",
    "                                    'WORKORDER_DESC':'description' })\n",
    "\n",
    "DE_short[DE_short.assetIds.astype(\"bool\")]"
   ]
  },
  {
   "cell_type": "code",
   "execution_count": null,
   "metadata": {},
   "outputs": [],
   "source": []
  }
 ],
 "metadata": {
  "kernelspec": {
   "display_name": "Python 3",
   "language": "python",
   "name": "python3"
  },
  "language_info": {
   "codemirror_mode": {
    "name": "ipython",
    "version": 3
   },
   "file_extension": ".py",
   "mimetype": "text/x-python",
   "name": "python",
   "nbconvert_exporter": "python",
   "pygments_lexer": "ipython3",
   "version": "3.6.7"
  }
 },
 "nbformat": 4,
 "nbformat_minor": 2
}
