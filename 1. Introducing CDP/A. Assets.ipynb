{
 "cells": [
  {
   "cell_type": "code",
   "execution_count": null,
   "metadata": {},
   "outputs": [],
   "source": [
    "%pylab notebook\n",
    "\n",
    "import pandas as pd\n",
    "import numpy as np\n",
    "import datetime\n",
    "import os\n",
    "\n",
    "import ipywidgets as widgets\n",
    "\n",
    "from cognite.client import CogniteClient   "
   ]
  },
  {
   "cell_type": "code",
   "execution_count": null,
   "metadata": {},
   "outputs": [],
   "source": [
    "client = CogniteClient(api_key=os.environ[\"OID_API_KEY\"]) "
   ]
  },
  {
   "cell_type": "markdown",
   "metadata": {},
   "source": [
    "### Look up a tag"
   ]
  },
  {
   "cell_type": "code",
   "execution_count": null,
   "metadata": {},
   "outputs": [],
   "source": [
    "# If we know the tag\n",
    "compressor_tag = '23-KA-9101'\n",
    "client.assets.get_assets(name=compressor_tag).to_pandas()"
   ]
  },
  {
   "cell_type": "markdown",
   "metadata": {},
   "source": [
    "### Search for a description"
   ]
  },
  {
   "cell_type": "code",
   "execution_count": null,
   "metadata": {},
   "outputs": [],
   "source": [
    "# By searching for it\n",
    "client.assets.get_assets(description='1ST STAGE COMPRESSOR').to_pandas()"
   ]
  },
  {
   "cell_type": "markdown",
   "metadata": {},
   "source": [
    "### Browsing from the top"
   ]
  },
  {
   "cell_type": "code",
   "execution_count": null,
   "metadata": {},
   "outputs": [],
   "source": [
    "# Browse from top\n",
    "client.assets.get_assets(depth=1).to_pandas()"
   ]
  },
  {
   "cell_type": "code",
   "execution_count": null,
   "metadata": {},
   "outputs": [],
   "source": [
    "client.assets.get_asset_subtree(4650652196144007, depth=1).to_pandas()"
   ]
  },
  {
   "cell_type": "code",
   "execution_count": null,
   "metadata": {},
   "outputs": [],
   "source": [
    "client.assets.get_asset_subtree(3111454725058294, depth=1).to_pandas()"
   ]
  },
  {
   "cell_type": "code",
   "execution_count": null,
   "metadata": {},
   "outputs": [],
   "source": [
    "client.assets.get_asset_subtree(6895991969886325, depth=1).to_pandas()"
   ]
  },
  {
   "cell_type": "code",
   "execution_count": null,
   "metadata": {},
   "outputs": [],
   "source": [
    "client.assets.get_asset_subtree(4518112062673878, depth=1).to_pandas()"
   ]
  },
  {
   "cell_type": "code",
   "execution_count": null,
   "metadata": {},
   "outputs": [],
   "source": [
    "client.assets.get_asset_subtree(7372310232665628, depth=1).to_pandas()"
   ]
  },
  {
   "cell_type": "code",
   "execution_count": null,
   "metadata": {},
   "outputs": [],
   "source": [
    "client.assets.get_asset_subtree(4856008121737468, depth=1).to_pandas()"
   ]
  },
  {
   "cell_type": "markdown",
   "metadata": {},
   "source": [
    "### Build an Interactive tool"
   ]
  },
  {
   "cell_type": "code",
   "execution_count": null,
   "metadata": {},
   "outputs": [],
   "source": [
    "def list_assets(asset_id):\n",
    "    assets = client.assets.get_asset_subtree(asset_id, depth=1).to_pandas()\n",
    "    description= assets.description.values\n",
    "    name = assets.name.values\n",
    "    ix = assets.id.values\n",
    "    lst = [str(ix[i])+' ~ '+name[i] + ' ~ '+ str(description[i])  for i in range(0, len(assets))]\n",
    "    return lst\n",
    "def on_change(change):\n",
    "    if change['type'] == 'change' and change['name'] == 'value':\n",
    "        selector.idn.append(change['new'].split('~')[0])\n",
    "        options = list_assets(int(selector.idn[len(selector.idn)-1]))\n",
    "        selector.options = options\n",
    "\n",
    "def back_clicked(b):\n",
    "    del selector.idn[-1]\n",
    "    options = list_assets(int(selector.idn[len(selector.idn)-1]))\n",
    "    selector.options = options"
   ]
  },
  {
   "cell_type": "code",
   "execution_count": null,
   "metadata": {},
   "outputs": [],
   "source": [
    "idn = 4650652196144007\n",
    "options  = list_assets(idn)\n",
    "selector = widgets.Select(options=options, layout=widgets.Layout(width='100%', height='300px'))\n",
    "selector.idn = [idn]\n",
    "back = widgets.Button(description='Back')\n",
    "selector.observe(on_change)\n",
    "back.on_click(back_clicked)\n",
    "app = widgets.VBox([selector, back])\n",
    "display(app)"
   ]
  }
 ],
 "metadata": {
  "kernelspec": {
   "display_name": "Python 3",
   "language": "python",
   "name": "python3"
  },
  "language_info": {
   "codemirror_mode": {
    "name": "ipython",
    "version": 3
   },
   "file_extension": ".py",
   "mimetype": "text/x-python",
   "name": "python",
   "nbconvert_exporter": "python",
   "pygments_lexer": "ipython3",
   "version": "3.6.7"
  }
 },
 "nbformat": 4,
 "nbformat_minor": 2
}
